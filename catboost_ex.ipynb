{
 "cells": [
  {
   "cell_type": "code",
   "execution_count": 744,
   "metadata": {},
   "outputs": [],
   "source": [
    "\"\"\"CREDIT TO PRUTHA ANNADATE, https://www.kaggle.com/code/pruthaannadate/catboost-march-machine-learning-mania-25\"\"\"\n",
    "\n",
    "import os\n",
    "import re\n",
    "import pandas as pd\n",
    "import numpy as np\n",
    "import matplotlib.pyplot as plt\n",
    "import seaborn as sns\n",
    "from itertools import combinations\n",
    "\n",
    "from catboost import CatBoostClassifier\n",
    "\n",
    "from sklearn.model_selection import train_test_split\n",
    "from sklearn.metrics import brier_score_loss, f1_score, accuracy_score, auc, roc_auc_score\n",
    "from sklearn.linear_model import LogisticRegression\n",
    "from sklearn.ensemble import RandomForestClassifier, HistGradientBoostingClassifier\n",
    "from sklearn.svm import SVC\n",
    "from sklearn.model_selection import StratifiedKFold\n",
    "\n",
    "from xgboost import XGBClassifier\n",
    "\n",
    "from keras.layers import Dense\n",
    "from keras.models import Sequential\n",
    "\n",
    "import warnings\n",
    "warnings.filterwarnings(action='ignore')"
   ]
  },
  {
   "cell_type": "markdown",
   "metadata": {},
   "source": [
    "# Helper functions"
   ]
  },
  {
   "cell_type": "code",
   "execution_count": 9,
   "metadata": {},
   "outputs": [],
   "source": [
    "def load_df_dict(path='march-machine-learning-mania-2025/'):\n",
    "    data_dict = {}\n",
    "    \n",
    "    for fname in os.listdir(path):\n",
    "        data_dict[fname.split('.')[0]] = pd.read_csv(path + fname)\n",
    "        \n",
    "    return data_dict"
   ]
  },
  {
   "cell_type": "code",
   "execution_count": 746,
   "metadata": {},
   "outputs": [],
   "source": [
    "# fix feature set logic so you dont need to pass both W and L, append at the end\n",
    "# add models iteratively \n",
    "\n",
    "def bracketology(dataset, feature_set=['WTeamID', 'LTeamID'], model_name='catboost'):\n",
    "    \n",
    "    model_directory = {\n",
    "        'catboost': CatBoostClassifier(iterations=1000, depth=6, learning_rate=0.1, loss_function='Logloss', verbose=200),\n",
    "        'xgb': XGBClassifier(enable_categorical=True),\n",
    "        'lr': LogisticRegression(),\n",
    "        'hgb': HistGradientBoostingClassifier()\n",
    "    }\n",
    "\n",
    "    result_dict = {}\n",
    "\n",
    "    X = dataset[feature_set]\n",
    "    y = dataset['result']\n",
    "    \n",
    "    k_strat = StratifiedKFold(n_splits=4, shuffle=False)\n",
    "    folds = k_strat.split(X, y)\n",
    "\n",
    "    auc = []\n",
    "    accuracy = []\n",
    "    brier_score = []\n",
    "\n",
    "    for train, test in folds:\n",
    "        \n",
    "        X_train, X_test = X.iloc[train], X.iloc[test]\n",
    "        y_train, y_test = y.values[train], y.values[test]\n",
    "\n",
    "        model = model_directory[model_name]\n",
    "        model.fit(X_train, y_train)\n",
    "\n",
    "        y_preds = model.predict(X_test)\n",
    "        y_probs = model.predict_proba(X_test)\n",
    "        auc.append(roc_auc_score(y_test, y_probs[:,1]))\n",
    "        accuracy.append(accuracy_score(y_test, y_preds))\n",
    "        brier_score.append(brier_score_loss(y_test, y_probs[:,1]))\n",
    "    \n",
    "    model.fit(X, y)\n",
    "\n",
    "    result_dict['model_name'] = model_name\n",
    "    result_dict['model'] = model\n",
    "    result_dict['auc'] = np.average(auc)\n",
    "    result_dict['accuracy'] = np.average(accuracy)\n",
    "    result_dict['brier_score'] = np.average(brier_score)\n",
    "    \n",
    "    return result_dict\n",
    "            "
   ]
  },
  {
   "cell_type": "code",
   "execution_count": 732,
   "metadata": {},
   "outputs": [],
   "source": [
    "# de-duping first - order of dupe removal doesn't matter bc \n",
    "def agg_team_stats(team_id, master_df, seed_df):\n",
    "    team_df = master_df[(master_df.WTeamID == team_id) | (master_df.LTeamID == team_id)].sort_values(['Season', 'DayNum'])\n",
    "    team_df = team_df.groupby(['Season', 'DayNum'], as_index=False).first()\n",
    "\n",
    "    result_dict = {}\n",
    "    \n",
    "    W_df = team_df[team_df['WTeamID'] == team_id]\n",
    "    L_df = team_df[team_df['LTeamID'] == team_id]\n",
    "    \n",
    "    try:\n",
    "        team_name = np.unique([W_df['WTeamName'].values[0]] + [L_df['LTeamName'].values[0]])[0]\n",
    "    except:\n",
    "        team_name = \"NOT LISTED\"\n",
    "        \n",
    "    alltime_W = W_df.shape[0]\n",
    "    alltime_L = L_df.shape[0]\n",
    "    \n",
    "    total_pts = np.sum(W_df['WScore'].tolist() + L_df['LScore'].tolist())\n",
    "    ppg = np.average(W_df['WScore'].tolist() + L_df['LScore'].tolist())\n",
    "    try:\n",
    "        max_scored = np.max(W_df['WScore'].tolist() + L_df['LScore'].tolist())\n",
    "    except:\n",
    "        max_scored = 0\n",
    "    \n",
    "    try:\n",
    "        min_scored = np.min(W_df['WScore'].tolist() + L_df['LScore'].tolist())\n",
    "    except:\n",
    "        min_scored = 0\n",
    "    std_dev_pts = np.std(W_df['WScore'].tolist() + L_df['LScore'].tolist())\n",
    "\n",
    "    average_win_margin = np.average(W_df['WScore'] - W_df['LScore'])\n",
    "    average_loss_margin = np.average(L_df['WScore'] - L_df['LScore'])\n",
    "\n",
    "    longest_run = W_df.groupby('Season').agg({'DayNum':'count'}).reset_index()['DayNum'].max()\n",
    "    shortest_run = L_df.groupby('Season').agg({'DayNum':'count'}).reset_index()['DayNum'].min() - 1\n",
    "\n",
    "    count_yrs_tourney = len(np.unique(W_df['Season'].tolist() + L_df['Season'].tolist()))\n",
    "\n",
    "    try:\n",
    "        cleaned_seeds = seed_df[seed_df['TeamID'] == team_id]['Seed'].apply(lambda x: int(re.sub('\\D', '', x)))\n",
    "        average_seed = np.average(cleaned_seeds)\n",
    "    except:\n",
    "        average_seed = np.nan\n",
    "\n",
    "    result_dict['TeamID'] = team_id\n",
    "    result_dict['FirstD1Season'] = L_df['LFirstD1Season']\n",
    "    result_dict['LastD1Season'] = L_df['LLastD1Season']\n",
    "    result_dict['TeamName'] = team_name\n",
    "    result_dict['alltime_w'] = alltime_W\n",
    "    result_dict['alltime_l'] = alltime_L\n",
    "    result_dict['total_pts'] = total_pts\n",
    "    result_dict['ppg'] = ppg\n",
    "    result_dict['max_scored'] = max_scored\n",
    "    result_dict['min_scored'] = min_scored\n",
    "    result_dict['std_dev_pts'] = std_dev_pts\n",
    "    result_dict['average_win_margin'] = average_win_margin\n",
    "    result_dict['average_loss_margin'] = average_loss_margin\n",
    "    result_dict['longest_run'] = longest_run\n",
    "    result_dict['shortest_run'] = shortest_run\n",
    "    result_dict['count_yrs_tourney'] = count_yrs_tourney\n",
    "    result_dict['average_seed'] = average_seed\n",
    "\n",
    "    return result_dict"
   ]
  },
  {
   "cell_type": "code",
   "execution_count": 723,
   "metadata": {},
   "outputs": [],
   "source": [
    "cleaned_seeds = seed_df[seed_df['TeamID'] == 1151]['Seed'].apply(lambda x: int(re.sub('\\D', '', x)))"
   ]
  },
  {
   "cell_type": "code",
   "execution_count": 724,
   "metadata": {},
   "outputs": [
    {
     "data": {
      "text/plain": [
       "14.0"
      ]
     },
     "execution_count": 724,
     "metadata": {},
     "output_type": "execute_result"
    }
   ],
   "source": [
    "np.average(cleaned_seeds)"
   ]
  },
  {
   "cell_type": "markdown",
   "metadata": {},
   "source": [
    "# Pull in basic stats"
   ]
  },
  {
   "cell_type": "code",
   "execution_count": 734,
   "metadata": {},
   "outputs": [],
   "source": [
    "dfs = load_df_dict()\n",
    "results = pd.concat([dfs['MNCAATourneyDetailedResults'], dfs['WNCAATourneyDetailedResults']])\n",
    "teams = pd.concat([dfs['MTeams'], dfs['WTeams']])\n",
    "\n",
    "results_W = results[['Season', 'DayNum', 'WTeamID', 'WScore']]\n",
    "results_L = results[['Season', 'DayNum', 'LTeamID', 'LScore']]\n",
    "stats = results.drop(['Season', 'DayNum', 'WTeamID', 'WScore', 'Season', 'DayNum', 'LTeamID', 'LScore'], axis=1)\n",
    "\n",
    "full_W = pd.merge(left=results_W, right=teams, left_on='WTeamID', right_on='TeamID', how='left')\n",
    "full_W = full_W.rename(columns={'TeamName':'WTeamName', 'FirstD1Season':'WFirstD1Season', 'LastD1Season':'WLastD1Season'}).drop('TeamID', axis=1)\n",
    "full_L = pd.merge(left=results_L, right=teams, left_on='LTeamID', right_on='TeamID', how='left')\n",
    "full_L = full_L.rename(columns={'TeamName':'LTeamName', 'FirstD1Season':'LFirstD1Season', 'LastD1Season':'LLastD1Season'}).drop('TeamID', axis=1).drop(['Season', 'DayNum'],axis=1)\n",
    "\n",
    "df = pd.concat([full_W, full_L, stats.reset_index()],axis=1).drop(['index', 'WLoc'], axis=1)\n",
    "\n",
    "# i honestly shouldnt be doing dupes here but we'll see\n",
    "new_df = pd.DataFrame({})\n",
    "WL_cols = np.sort([col for col in df.columns if 'W' in col or 'L' in col]).tolist()[::-1]\n",
    "\n",
    "reversed_WL_cols = [i for i in WL_cols if i[0] == 'L'] + [i for i in WL_cols if i[0] == 'W']\n",
    "other_cols = np.setdiff1d(df.columns, WL_cols)\n",
    "\n",
    "raw_names = [col.strip(\"W\") for col in WL_cols if 'W' in col]\n",
    "WL_pairs = [[f'W{col}', f'L{col}'] for col in raw_names]\n",
    "\n",
    "for pair in WL_pairs:\n",
    "    new_df[pair] = df[pair[::-1]]\n",
    "\n",
    "df['result'] = 1\n",
    "new_df['result'] = 0\n",
    "\n",
    "new_df[other_cols] = df[other_cols]\n",
    "new_df = new_df[df.columns]\n",
    "\n",
    "temp = pd.concat([df, new_df])\n",
    "\n",
    "# Get all aggs\n",
    "required_ids_df = pd.read_csv('march-machine-learning-mania-2025/SampleSubmissionStage2.csv')\n",
    "required_str = required_ids_df['ID'].unique().tolist()\n",
    "ids = np.unique([int(i.split('_')[1]) for i in required_ids_df['ID']] + [int(i.split('_')[2]) for i in required_ids_df['ID']])\n",
    "\n",
    "agg_dfs = []\n",
    "seed_df = pd.concat([pd.read_csv('march-machine-learning-mania-2025/MNCAATourneySeeds.csv'), pd.read_csv('march-machine-learning-mania-2025/WNCAATourneySeeds.csv')])\n",
    "\n",
    "for i in ids:\n",
    "    agg_df = pd.DataFrame(agg_team_stats(i, temp, seed_df), index=[0])\n",
    "    agg_dfs.append(agg_df)\n",
    "\n",
    "all_stats_agg = pd.concat(agg_dfs).reset_index().drop('index', axis=1).sort_values('TeamID')\n",
    "all_stats_agg['TeamID'] = all_stats_agg['TeamID'].astype(int)\n",
    "\n",
    "reused = ['TeamID', 'FirstD1Season', 'LastD1Season', 'TeamName']\n",
    "to_rename = np.setdiff1d(all_stats_agg.columns, reused).tolist()\n",
    "\n",
    "one = pd.merge(left=temp, right=all_stats_agg, left_on='WTeamID', right_on='TeamID', how='left').drop(reused, axis=1)\n",
    "one = one.rename(columns={i:'W' + i for i in to_rename})\n",
    "\n",
    "two = pd.merge(left=one, right=all_stats_agg, left_on='LTeamID', right_on='TeamID', how='left').drop(reused, axis=1)\n",
    "master_df = two.rename(columns={i:'L' + i for i in to_rename})"
   ]
  },
  {
   "cell_type": "code",
   "execution_count": 736,
   "metadata": {},
   "outputs": [
    {
     "data": {
      "text/plain": [
       "<Axes: >"
      ]
     },
     "execution_count": 736,
     "metadata": {},
     "output_type": "execute_result"
    },
    {
     "data": {
      "image/png": "[encoded data removed]",
      "text/plain": [
       "<Figure size 640x480 with 1 Axes>"
      ]
     },
     "metadata": {},
     "output_type": "display_data"
    }
   ],
   "source": [
    "all_stats_agg['average_seed'].hist()"
   ]
  },
  {
   "cell_type": "markdown",
   "metadata": {},
   "source": [
    "# Since we'll have to predict on combinations, we need to aggregate some stats to generate static features"
   ]
  },
  {
   "cell_type": "code",
   "execution_count": 20,
   "metadata": {},
   "outputs": [],
   "source": [
    "test_case = master_df[(master_df.WTeamID == 1112) | (master_df.LTeamID == 1112)].sort_values(['Season', 'DayNum'])"
   ]
  },
  {
   "cell_type": "code",
   "execution_count": 21,
   "metadata": {},
   "outputs": [],
   "source": [
    "test_case_deduped = test_case.groupby(['Season', 'DayNum'], as_index=False).first()"
   ]
  },
  {
   "cell_type": "code",
   "execution_count": 376,
   "metadata": {},
   "outputs": [],
   "source": [
    "unique_teams = np.unique(master_df['WTeamID'].tolist() + master_df['LTeamID'].tolist())"
   ]
  },
  {
   "cell_type": "code",
   "execution_count": 377,
   "metadata": {},
   "outputs": [],
   "source": [
    "Mens = pd.read_csv('march-machine-learning-mania-2025/MTeams.csv')['TeamID'].unique().tolist()\n",
    "Womens = pd.read_csv('march-machine-learning-mania-2025/WTeams.csv')['TeamID'].unique().tolist()"
   ]
  },
  {
   "cell_type": "code",
   "execution_count": 378,
   "metadata": {},
   "outputs": [],
   "source": [
    "combos = list(combinations(Mens + Womens, 2))"
   ]
  },
  {
   "cell_type": "code",
   "execution_count": 531,
   "metadata": {},
   "outputs": [],
   "source": [
    "unique_teams = np.unique(Mens + Womens)"
   ]
  },
  {
   "cell_type": "code",
   "execution_count": 556,
   "metadata": {},
   "outputs": [],
   "source": [
    "required_ids_df = pd.read_csv('march-machine-learning-mania-2025/SampleSubmissionStage2.csv')\n",
    "required_str = required_ids_df['ID'].unique().tolist()\n",
    "ids = np.unique([int(i.split('_')[1]) for i in required_ids_df['ID']] + [int(i.split('_')[2]) for i in required_ids_df['ID']])\n",
    "\n",
    "# Get all aggs\n",
    "agg_dfs = []\n",
    "for i in ids:\n",
    "    agg_df = pd.DataFrame(agg_team_stats(i, master_df), index=[0])\n",
    "    agg_dfs.append(agg_df)\n",
    "\n",
    "all_stats_agg = pd.concat(agg_dfs).reset_index().drop('index', axis=1).sort_values('TeamID')\n",
    "all_stats_agg['TeamID'] = all_stats_agg['TeamID'].astype(int)\n",
    "\n",
    "feature_set = ['WTeamID', 'LTeamID']\n",
    "test_final = pd.DataFrame({\n",
    "    'matchup': list(combinations(ids, 2))\n",
    "})"
   ]
  },
  {
   "cell_type": "code",
   "execution_count": 478,
   "metadata": {},
   "outputs": [],
   "source": [
    "feature_set = ['WTeamID', 'LTeamID']"
   ]
  },
  {
   "cell_type": "code",
   "execution_count": 358,
   "metadata": {},
   "outputs": [],
   "source": [
    "matchups = list(combinations(unique_teams, 2))"
   ]
  },
  {
   "cell_type": "code",
   "execution_count": 476,
   "metadata": {},
   "outputs": [
    {
     "data": {
      "text/plain": [
       "121278"
      ]
     },
     "execution_count": 476,
     "metadata": {},
     "output_type": "execute_result"
    }
   ],
   "source": [
    "len(matchups)"
   ]
  },
  {
   "cell_type": "code",
   "execution_count": 565,
   "metadata": {},
   "outputs": [],
   "source": [
    "feature_set = ['WTeamID', 'LTeamID']\n",
    "test_final = pd.DataFrame({\n",
    "    'matchup': list(combinations(ids, 2))\n",
    "})\n"
   ]
  },
  {
   "cell_type": "code",
   "execution_count": 566,
   "metadata": {},
   "outputs": [],
   "source": [
    "# this should be the logic going forward - you shouldnt make predictions iteratively!!!\n",
    "test_final['min_id'] = test_final['matchup'].apply(lambda x: min(x))\n",
    "test_final['max_id'] = test_final['matchup'].apply(lambda x: max(x))\n",
    "test_final['matchup_str'] = '2025_' + test_final['min_id'].astype(str) + '_' + test_final['max_id'].astype(str)"
   ]
  },
  {
   "cell_type": "code",
   "execution_count": 481,
   "metadata": {},
   "outputs": [],
   "source": [
    "left_features = [i.strip('W') for i in feature_set if (i.startswith('W') or i.startswith('WL'))]"
   ]
  },
  {
   "cell_type": "code",
   "execution_count": 575,
   "metadata": {},
   "outputs": [],
   "source": [
    "merge1 = pd.merge(left=all_stats_agg, right=test_final, left_on='TeamID', right_on='min_id', how='left')\n",
    "W_rename_dict = {i:'W'+i for i in left_features}\n",
    "merge1 = merge1.rename(columns=W_rename_dict)\n",
    "\n",
    "merge1 = pd.merge(left=all_stats_agg, right=merge1, left_on='TeamID', right_on='max_id', how='left')\n",
    "L_rename_dict = {i:'L'+i for i in left_features}\n",
    "merge1 = merge1.rename(columns=L_rename_dict)"
   ]
  },
  {
   "cell_type": "code",
   "execution_count": 338,
   "metadata": {},
   "outputs": [],
   "source": [
    "required_ids_df = pd.read_csv('march-machine-learning-mania-2025/SampleSubmissionStage2.csv')\n",
    "required_ids = list(set(required_ids_df['ID']))"
   ]
  },
  {
   "cell_type": "code",
   "execution_count": 620,
   "metadata": {},
   "outputs": [],
   "source": [
    "# Get all aggs\n",
    "agg_dfs = []\n",
    "for i in ids:\n",
    "    agg_df = pd.DataFrame(agg_team_stats(i, master_df), index=[0])\n",
    "    agg_dfs.append(agg_df)\n",
    "\n",
    "all_stats_agg = pd.concat(agg_dfs).reset_index().drop('index', axis=1).sort_values('TeamID')\n",
    "all_stats_agg['TeamID'] = all_stats_agg['TeamID'].astype(int)"
   ]
  },
  {
   "cell_type": "code",
   "execution_count": 672,
   "metadata": {},
   "outputs": [],
   "source": [
    "# try to build this out for 2 sets of chiral features, since logic for agg'd features isn't build yet\n",
    "def forecast(model, features=['WTeamID', 'LTeamID']):\n",
    "    chiral_features = [i for i in features if (i.startswith('W') or i.startswith('WL'))]\n",
    "    chiral_features_stripped = [i.strip('W') for i in chiral_features]\n",
    "    \n",
    "    required_ids_df = pd.read_csv('march-machine-learning-mania-2025/SampleSubmissionStage2.csv')\n",
    "    required_str = required_ids_df['ID'].unique().tolist()\n",
    "    ids = np.unique([int(i.split('_')[1]) for i in required_ids_df['ID']] + [int(i.split('_')[2]) for i in required_ids_df['ID']])\n",
    "\n",
    "    cleaned_df = pd.DataFrame({\n",
    "        'matchup': list(combinations(ids, 2))\n",
    "    })\n",
    "    \n",
    "    cleaned_df['min_id'] = cleaned_df['matchup'].apply(lambda x: min(x))\n",
    "    cleaned_df['max_id'] = cleaned_df['matchup'].apply(lambda x: max(x))\n",
    "    cleaned_df['matchup_str'] = '2025_' + cleaned_df['min_id'].astype(str) + '_' + cleaned_df['max_id'].astype(str)\n",
    "    \n",
    "    merge1 = pd.merge(left=all_stats_agg, right=cleaned_df, left_on='TeamID', right_on='min_id', how='left')\n",
    "    W_rename_dict = {i:'W'+i for i in chiral_features_stripped}\n",
    "    merge1 = merge1.rename(columns=W_rename_dict)\n",
    "\n",
    "    merge1 = pd.merge(left=all_stats_agg, right=merge1, left_on='TeamID', right_on='max_id', how='left')\n",
    "    L_rename_dict = {i:'L'+i for i in  chiral_features_stripped}\n",
    "    merge1 = merge1.rename(columns=L_rename_dict)\n",
    "    \n",
    "    merge1 = merge1[merge1['matchup_str'].isin(required_str)]\n",
    "\n",
    "    features_to_use = []\n",
    "\n",
    "    for i,j in zip(list(W_rename_dict.values()), list(L_rename_dict.values())):\n",
    "        features_to_use.extend([i,j])\n",
    "\n",
    "    X_predict = merge1[features_to_use]\n",
    "\n",
    "    preds = model.predict_proba(X_predict)[:,1]\n",
    "\n",
    "    submission = pd.concat([merge1['matchup_str'].reset_index(), pd.DataFrame({'result':preds}).reset_index()], axis=1).drop('index', axis=1)\n",
    "    submission = submission.rename(columns={'matchup_str':'ID', 'result':'Pred'})\n",
    "    \n",
    "    return submission"
   ]
  },
  {
   "cell_type": "code",
   "execution_count": 680,
   "metadata": {},
   "outputs": [
    {
     "data": {
      "text/plain": [
       "Index(['Season', 'DayNum', 'WTeamID', 'WScore', 'WTeamName', 'WFirstD1Season',\n",
       "       'WLastD1Season', 'LTeamID', 'LScore', 'LTeamName', 'LFirstD1Season',\n",
       "       'LLastD1Season', 'NumOT', 'WFGM', 'WFGA', 'WFGM3', 'WFGA3', 'WFTM',\n",
       "       'WFTA', 'WOR', 'WDR', 'WAst', 'WTO', 'WStl', 'WBlk', 'WPF', 'LFGM',\n",
       "       'LFGA', 'LFGM3', 'LFGA3', 'LFTM', 'LFTA', 'LOR', 'LDR', 'LAst', 'LTO',\n",
       "       'LStl', 'LBlk', 'LPF', 'result', 'Walltime_w', 'Walltime_l',\n",
       "       'Wtotal_pts', 'Wppg', 'Wmax_scored', 'Wmin_scored', 'Wstd_dev_pts',\n",
       "       'Waverage_win_margin', 'Waverage_loss_margin', 'Wlongest_run',\n",
       "       'Wshortest_run', 'Wcount_yrs_tourney', 'Lalltime_w', 'Lalltime_l',\n",
       "       'Ltotal_pts', 'Lppg', 'Lmax_scored', 'Lmin_scored', 'Lstd_dev_pts',\n",
       "       'Laverage_win_margin', 'Laverage_loss_margin', 'Llongest_run',\n",
       "       'Lshortest_run', 'Lcount_yrs_tourney'],\n",
       "      dtype='object')"
      ]
     },
     "execution_count": 680,
     "metadata": {},
     "output_type": "execute_result"
    }
   ],
   "source": [
    "master_df.columns"
   ]
  },
  {
   "cell_type": "code",
   "execution_count": 685,
   "metadata": {},
   "outputs": [
    {
     "data": {
      "text/plain": [
       "Index(['Season', 'DayNum', 'WTeamID', 'WScore', 'WTeamName', 'WFirstD1Season',\n",
       "       'WLastD1Season', 'LTeamID', 'LScore', 'LTeamName', 'LFirstD1Season',\n",
       "       'LLastD1Season', 'NumOT', 'WFGM', 'WFGA', 'WFGM3', 'WFGA3', 'WFTM',\n",
       "       'WFTA', 'WOR', 'WDR', 'WAst', 'WTO', 'WStl', 'WBlk', 'WPF', 'LFGM',\n",
       "       'LFGA', 'LFGM3', 'LFGA3', 'LFTM', 'LFTA', 'LOR', 'LDR', 'LAst', 'LTO',\n",
       "       'LStl', 'LBlk', 'LPF', 'result', 'Walltime_w', 'Walltime_l',\n",
       "       'Wtotal_pts', 'Wppg', 'Wmax_scored', 'Wmin_scored', 'Wstd_dev_pts',\n",
       "       'Waverage_win_margin', 'Waverage_loss_margin', 'Wlongest_run',\n",
       "       'Wshortest_run', 'Wcount_yrs_tourney', 'Lalltime_w', 'Lalltime_l',\n",
       "       'Ltotal_pts', 'Lppg', 'Lmax_scored', 'Lmin_scored', 'Lstd_dev_pts',\n",
       "       'Laverage_win_margin', 'Laverage_loss_margin', 'Llongest_run',\n",
       "       'Lshortest_run', 'Lcount_yrs_tourney'],\n",
       "      dtype='object')"
      ]
     },
     "execution_count": 685,
     "metadata": {},
     "output_type": "execute_result"
    }
   ],
   "source": [
    "master_df.columns"
   ]
  },
  {
   "cell_type": "code",
   "execution_count": 747,
   "metadata": {},
   "outputs": [
    {
     "name": "stdout",
     "output_type": "stream",
     "text": [
      "{'model_name': 'xgb', 'model': XGBClassifier(base_score=None, booster=None, callbacks=None,\n",
      "              colsample_bylevel=None, colsample_bynode=None,\n",
      "              colsample_bytree=None, device=None, early_stopping_rounds=None,\n",
      "              enable_categorical=True, eval_metric=None, feature_types=None,\n",
      "              gamma=None, grow_policy=None, importance_type=None,\n",
      "              interaction_constraints=None, learning_rate=None, max_bin=None,\n",
      "              max_cat_threshold=None, max_cat_to_onehot=None,\n",
      "              max_delta_step=None, max_depth=None, max_leaves=None,\n",
      "              min_child_weight=None, missing=nan, monotone_constraints=None,\n",
      "              multi_strategy=None, n_estimators=None, n_jobs=None,\n",
      "              num_parallel_tree=None, random_state=None, ...), 'auc': 0.7989110794691145, 'accuracy': 0.7076010544815466, 'brier_score': 0.2036695457116922}\n"
     ]
    }
   ],
   "source": [
    "features = ['Wppg', 'Lppg', 'Walltime_w', 'Lalltime_w', 'Walltime_l', 'Lalltime_l', 'Wmax_scored', 'Lmax_scored', 'Wmin_scored', 'Lmin_scored', 'Waverage_seed', 'Laverage_seed']\n",
    "model_to_save = bracketology(master_df, feature_set=features, model_name='xgb')\n",
    "print(model_to_save)\n",
    "output = forecast(model=model_to_save['model'], features=features)"
   ]
  },
  {
   "cell_type": "code",
   "execution_count": 702,
   "metadata": {},
   "outputs": [],
   "source": [
    "output.to_csv('/Users/benstager/Desktop/march_mania_stager_2025_v2.csv', index=False, header=True)"
   ]
  },
  {
   "cell_type": "code",
   "execution_count": null,
   "metadata": {},
   "outputs": [],
   "source": [
    "1433 1140"
   ]
  },
  {
   "cell_type": "code",
   "execution_count": 764,
   "metadata": {},
   "outputs": [
    {
     "data": {
      "text/html": [
       "<div>\n",
       "<style scoped>\n",
       "    .dataframe tbody tr th:only-of-type {\n",
       "        vertical-align: middle;\n",
       "    }\n",
       "\n",
       "    .dataframe tbody tr th {\n",
       "        vertical-align: top;\n",
       "    }\n",
       "\n",
       "    .dataframe thead th {\n",
       "        text-align: right;\n",
       "    }\n",
       "</style>\n",
       "<table border=\"1\" class=\"dataframe\">\n",
       "  <thead>\n",
       "    <tr style=\"text-align: right;\">\n",
       "      <th></th>\n",
       "      <th>ID</th>\n",
       "      <th>Pred</th>\n",
       "    </tr>\n",
       "  </thead>\n",
       "  <tbody>\n",
       "    <tr>\n",
       "      <th>5457</th>\n",
       "      <td>2025_1208_1211</td>\n",
       "      <td>0.001285</td>\n",
       "    </tr>\n",
       "  </tbody>\n",
       "</table>\n",
       "</div>"
      ],
      "text/plain": [
       "                  ID      Pred\n",
       "5457  2025_1208_1211  0.001285"
      ]
     },
     "execution_count": 764,
     "metadata": {},
     "output_type": "execute_result"
    }
   ],
   "source": [
    "output[output['ID'] == '2025_1208_1211']"
   ]
  },
  {
   "cell_type": "markdown",
   "metadata": {},
   "source": [
    "# Kaggle reference"
   ]
  },
  {
   "cell_type": "code",
   "execution_count": 314,
   "metadata": {},
   "outputs": [
    {
     "name": "stdout",
     "output_type": "stream",
     "text": [
      "0:\tlearn: 0.6918448\ttotal: 2.28ms\tremaining: 2.28s\n",
      "200:\tlearn: 0.5864456\ttotal: 223ms\tremaining: 887ms\n",
      "400:\tlearn: 0.5174959\ttotal: 480ms\tremaining: 717ms\n",
      "600:\tlearn: 0.4707636\ttotal: 706ms\tremaining: 469ms\n",
      "800:\tlearn: 0.4331983\ttotal: 932ms\tremaining: 231ms\n",
      "999:\tlearn: 0.4016661\ttotal: 1.16s\tremaining: 0us\n",
      "Brier Score: 0.2188024186822397\n"
     ]
    }
   ],
   "source": [
    "# File path\n",
    "input_folder = r\"march-machine-learning-mania-2025/\"\n",
    "\n",
    "\n",
    "# Pertinent file names\n",
    "mens_files = [\"MNCAATourneyCompactResults.csv\", \"MRegularSeasonCompactResults.csv\", \"MTeams.csv\"]\n",
    "womens_files = [\"WNCAATourneyCompactResults.csv\", \"WRegularSeasonCompactResults.csv\", \"WTeams.csv\"]\n",
    "\n",
    "dataframes = {}\n",
    "\n",
    "# Load in csv data and cast them as dataframes\n",
    "def load_csv_files(file_list):\n",
    "    for file in file_list:\n",
    "        file_path = os.path.join(input_folder, file)\n",
    "        key = os.path.splitext(file)[0]\n",
    "        try:\n",
    "            dataframes[key] = pd.read_csv(file_path)\n",
    "        except Exception as e:\n",
    "            print(f\"Error loading {file}: {e}\")\n",
    "\n",
    "# Load mens and womens data\n",
    "load_csv_files(mens_files)\n",
    "load_csv_files(womens_files)\n",
    "\n",
    "# Preprocess - the author uses a very minimal feature set so it is very easy to follow\n",
    "def preprocess_results(df):\n",
    "    df = df[['Season', 'WTeamID', 'LTeamID']].copy()\n",
    "    df.loc[:, 'Result'] = 1  # Win label\n",
    "    df_inv = df.copy()\n",
    "    df_inv[['WTeamID', 'LTeamID']] = df[['LTeamID', 'WTeamID']].values\n",
    "    df_inv.loc[:, 'Result'] = 0  # Loss label\n",
    "    return pd.concat([df, df_inv], ignore_index=True)\n",
    "\n",
    "# Preprocesses them into dataframes \n",
    "men_results = preprocess_results(dataframes['MNCAATourneyCompactResults'])\n",
    "women_results = preprocess_results(dataframes['WNCAATourneyCompactResults'])\n",
    "\n",
    "all_results = pd.concat([men_results, women_results], ignore_index=True)\n",
    "\n",
    "# Merge men's and women's datasets\n",
    "# all_results = pd.concat([men_results, women_results], ignore_index=True)\n",
    "\n",
    "# Train model\n",
    "X = all_results[['Season', 'WTeamID', 'LTeamID']]\n",
    "y = all_results['Result']\n",
    "X_train, X_test, y_train, y_test = train_test_split(X, y, test_size=0.2, random_state=42)\n",
    "\n",
    "# Model is trained here - but the predictions are combinations of *all* possible pairings teams\n",
    "model = CatBoostClassifier(iterations=1000, depth=6, learning_rate=0.1, loss_function='Logloss', verbose=200)\n",
    "model.fit(X_train, y_train)\n",
    "\n",
    "# Evaluate model - uses a brier score?\n",
    "preds = model.predict_proba(X_test)[:, 1]\n",
    "print(f\"Brier Score: {brier_score_loss(y_test, preds)}\")\n",
    "\n",
    "# Generate submission\n",
    "all_teams = np.concatenate((dataframes['MTeams']['TeamID'].values, dataframes['WTeams']['TeamID'].values))\n",
    "pairings = list(combinations(all_teams, 2))\n",
    "\n",
    "# Load required matchup IDs\n",
    "required_ids_df = pd.read_csv(os.path.join(input_folder, \"SampleSubmissionStage2.csv\"))\n",
    "required_ids = set(required_ids_df['ID'])\n",
    "\n",
    "# Submit to kaggle?\n",
    "def create_submission(pairings, season=2025, max_rows=131407):\n",
    "    submission = []\n",
    "    for (team1, team2) in pairings:\n",
    "        matchup_id = f\"{season}_{min(team1, team2)}_{max(team1, team2)}\"\n",
    "        if matchup_id in required_ids:\n",
    "            input_data = pd.DataFrame({'Season': [season], 'WTeamID': [min(team1, team2)], 'LTeamID': [max(team1, team2)]})\n",
    "            pred = model.predict_proba(input_data)[0, 1] if len(input_data) > 0 else 0.5\n",
    "            submission.append([matchup_id, pred])\n",
    "    submission_df = pd.DataFrame(submission, columns=[\"ID\", \"Pred\"])\n",
    "    print(f\"Submission file has {submission_df.shape[0]} rows.\")\n",
    "    return submission_df\n"
   ]
  }
 ],
 "metadata": {
  "kernelspec": {
   "display_name": "Python 3",
   "language": "python",
   "name": "python3"
  },
  "language_info": {
   "codemirror_mode": {
    "name": "ipython",
    "version": 3
   },
   "file_extension": ".py",
   "mimetype": "text/x-python",
   "name": "python",
   "nbconvert_exporter": "python",
   "pygments_lexer": "ipython3",
   "version": "3.11.9"
  }
 },
 "nbformat": 4,
 "nbformat_minor": 2
}
